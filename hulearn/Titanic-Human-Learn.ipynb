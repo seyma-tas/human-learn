{
 "cells": [
  {
   "cell_type": "code",
   "execution_count": 3,
   "metadata": {
    "ExecuteTime": {
     "end_time": "2020-10-13T17:50:50.431478Z",
     "start_time": "2020-10-13T17:50:49.647538Z"
    }
   },
   "outputs": [],
   "source": [
    "from hulearn.datasets import load_titanic"
   ]
  },
  {
   "cell_type": "code",
   "execution_count": 4,
   "metadata": {
    "ExecuteTime": {
     "end_time": "2020-10-13T17:51:13.579178Z",
     "start_time": "2020-10-13T17:51:13.550362Z"
    }
   },
   "outputs": [
    {
     "data": {
      "text/html": [
       "<div>\n",
       "<style scoped>\n",
       "    .dataframe tbody tr th:only-of-type {\n",
       "        vertical-align: middle;\n",
       "    }\n",
       "\n",
       "    .dataframe tbody tr th {\n",
       "        vertical-align: top;\n",
       "    }\n",
       "\n",
       "    .dataframe thead th {\n",
       "        text-align: right;\n",
       "    }\n",
       "</style>\n",
       "<table border=\"1\" class=\"dataframe\">\n",
       "  <thead>\n",
       "    <tr style=\"text-align: right;\">\n",
       "      <th></th>\n",
       "      <th>survived</th>\n",
       "      <th>pclass</th>\n",
       "      <th>name</th>\n",
       "      <th>sex</th>\n",
       "      <th>age</th>\n",
       "      <th>fare</th>\n",
       "      <th>sibsp</th>\n",
       "      <th>parch</th>\n",
       "    </tr>\n",
       "  </thead>\n",
       "  <tbody>\n",
       "    <tr>\n",
       "      <td>0</td>\n",
       "      <td>0</td>\n",
       "      <td>3</td>\n",
       "      <td>Braund, Mr. Owen Harris</td>\n",
       "      <td>male</td>\n",
       "      <td>22.0</td>\n",
       "      <td>7.2500</td>\n",
       "      <td>1</td>\n",
       "      <td>0</td>\n",
       "    </tr>\n",
       "    <tr>\n",
       "      <td>1</td>\n",
       "      <td>1</td>\n",
       "      <td>1</td>\n",
       "      <td>Cumings, Mrs. John Bradley (Florence Briggs Th...</td>\n",
       "      <td>female</td>\n",
       "      <td>38.0</td>\n",
       "      <td>71.2833</td>\n",
       "      <td>1</td>\n",
       "      <td>0</td>\n",
       "    </tr>\n",
       "    <tr>\n",
       "      <td>2</td>\n",
       "      <td>1</td>\n",
       "      <td>3</td>\n",
       "      <td>Heikkinen, Miss. Laina</td>\n",
       "      <td>female</td>\n",
       "      <td>26.0</td>\n",
       "      <td>7.9250</td>\n",
       "      <td>0</td>\n",
       "      <td>0</td>\n",
       "    </tr>\n",
       "    <tr>\n",
       "      <td>3</td>\n",
       "      <td>1</td>\n",
       "      <td>1</td>\n",
       "      <td>Futrelle, Mrs. Jacques Heath (Lily May Peel)</td>\n",
       "      <td>female</td>\n",
       "      <td>35.0</td>\n",
       "      <td>53.1000</td>\n",
       "      <td>1</td>\n",
       "      <td>0</td>\n",
       "    </tr>\n",
       "    <tr>\n",
       "      <td>4</td>\n",
       "      <td>0</td>\n",
       "      <td>3</td>\n",
       "      <td>Allen, Mr. William Henry</td>\n",
       "      <td>male</td>\n",
       "      <td>35.0</td>\n",
       "      <td>8.0500</td>\n",
       "      <td>0</td>\n",
       "      <td>0</td>\n",
       "    </tr>\n",
       "  </tbody>\n",
       "</table>\n",
       "</div>"
      ],
      "text/plain": [
       "   survived  pclass                                               name  \\\n",
       "0         0       3                            Braund, Mr. Owen Harris   \n",
       "1         1       1  Cumings, Mrs. John Bradley (Florence Briggs Th...   \n",
       "2         1       3                             Heikkinen, Miss. Laina   \n",
       "3         1       1       Futrelle, Mrs. Jacques Heath (Lily May Peel)   \n",
       "4         0       3                           Allen, Mr. William Henry   \n",
       "\n",
       "      sex   age     fare  sibsp  parch  \n",
       "0    male  22.0   7.2500      1      0  \n",
       "1  female  38.0  71.2833      1      0  \n",
       "2  female  26.0   7.9250      0      0  \n",
       "3  female  35.0  53.1000      1      0  \n",
       "4    male  35.0   8.0500      0      0  "
      ]
     },
     "execution_count": 4,
     "metadata": {},
     "output_type": "execute_result"
    }
   ],
   "source": [
    "df = load_titanic(as_frame=True)\n",
    "df.head()"
   ]
  },
  {
   "cell_type": "code",
   "execution_count": 5,
   "metadata": {
    "ExecuteTime": {
     "end_time": "2020-10-13T17:51:31.561894Z",
     "start_time": "2020-10-13T17:51:31.557226Z"
    }
   },
   "outputs": [],
   "source": [
    "X, y = df.drop(columns=['survived']), df['survived']"
   ]
  },
  {
   "cell_type": "code",
   "execution_count": 6,
   "metadata": {
    "ExecuteTime": {
     "end_time": "2020-10-13T17:52:02.270008Z",
     "start_time": "2020-10-13T17:52:01.755729Z"
    }
   },
   "outputs": [],
   "source": [
    "import numpy as np\n",
    "from hulearn.classification import FunctionClassifier\n",
    "\n",
    "def fare_based(dataf, threshold=10):\n",
    "    \"\"\"\n",
    "    The assumption is that folks who paid more are wealthier and are more\n",
    "    likely to have recieved access to lifeboats.\n",
    "    \"\"\"\n",
    "    return np.array(dataf['fare'] > threshold).astype(int)\n",
    "\n",
    "mod = FunctionClassifier(fare_based)"
   ]
  },
  {
   "cell_type": "code",
   "execution_count": 7,
   "metadata": {
    "ExecuteTime": {
     "end_time": "2020-10-13T17:52:41.570217Z",
     "start_time": "2020-10-13T17:52:41.561893Z"
    }
   },
   "outputs": [
    {
     "data": {
      "text/plain": [
       "array([0, 1, 0, 1, 0, 1, 1, 1, 1, 1, 1, 0, 1, 0, 1, 1, 1, 1, 1, 0, 1, 1,\n",
       "       1, 1, 1, 1, 1, 1, 0, 1, 1, 0, 1, 1, 0, 1, 1, 0, 1, 1, 1, 1, 0, 1,\n",
       "       1, 0, 1, 1, 1, 1, 0, 0, 0, 1, 1, 1, 1, 1, 0, 1, 1, 0, 0, 1, 1, 1,\n",
       "       1, 1, 0, 0, 0, 1, 1, 0, 1, 1, 1, 1, 0, 1, 0, 0, 0, 0, 0, 1, 1, 0,\n",
       "       0, 1, 0, 0, 1, 1, 1, 1, 1, 1, 1, 1, 0, 0, 0, 0, 1, 1, 1, 1, 1, 1,\n",
       "       0, 1, 0, 1, 0, 1, 1, 0, 1, 1, 1, 1, 1, 0, 1, 1, 0, 0, 1, 1, 0, 0,\n",
       "       1, 1, 1, 1, 1, 1, 1, 0, 1, 0, 1, 1, 0, 1, 1, 1, 1, 1, 0, 1, 1, 0,\n",
       "       1, 1, 1, 0, 1, 0, 0, 0, 0, 1, 1, 1, 0, 1, 0, 1, 0, 1, 1, 0, 1, 1,\n",
       "       1, 0, 1, 0, 1, 0, 1, 0, 1, 1, 0, 1, 1, 1, 1, 1, 1, 1, 1, 0, 0, 1,\n",
       "       0, 1, 1, 1, 1, 1, 1, 1, 1, 1, 1, 1, 1, 1, 0, 1, 1, 0, 1, 1, 0, 1,\n",
       "       1, 1, 0, 1, 1, 0, 0, 0, 0, 0, 0, 0, 1, 0, 1, 1, 1, 0, 0, 0, 1, 1,\n",
       "       0, 1, 1, 1, 1, 1, 1, 1, 0, 1, 0, 1, 1, 1, 1, 0, 0, 1, 1, 1, 0, 1,\n",
       "       1, 1, 1, 1, 1, 1, 1, 0, 1, 1, 1, 1, 1, 1, 1, 1, 1, 0, 0, 0, 1, 0,\n",
       "       1, 1, 1, 1, 1, 0, 0, 1, 1, 1, 0, 0, 1, 1, 0, 1, 0, 0, 1, 1, 0, 1,\n",
       "       1, 1, 1, 1, 1, 0, 0, 1, 1, 0, 0, 1, 1, 1, 0, 0, 0, 1, 0, 1, 0, 1,\n",
       "       0, 1, 0, 1, 1, 1, 1, 0, 0, 1, 1, 1, 1, 0, 1, 1, 0, 1, 1, 1, 1, 1,\n",
       "       1, 1, 0, 0, 1, 1, 1, 1, 1, 1, 1, 1, 1, 0, 1, 1, 1, 0, 1, 1, 0, 1,\n",
       "       1, 0, 1, 1, 0, 1, 0, 0, 1, 1, 0, 0, 1, 1, 1, 0, 1, 0, 1, 1, 0, 1,\n",
       "       1, 0, 0, 0, 0, 1, 1, 1, 1, 1, 0, 1, 1, 0, 1, 1, 1, 0, 1, 0, 1, 0,\n",
       "       1, 0, 1, 1, 0, 0, 1, 1, 1, 1, 1, 1, 1, 1, 1, 1, 1, 1, 1, 1, 1, 0,\n",
       "       0, 1, 1, 1, 1, 0, 1, 1, 0, 1, 0, 1, 1, 1, 0, 1, 1, 1, 0, 1, 1, 1,\n",
       "       1, 1, 1, 1, 0, 0, 1, 0, 1, 1, 0, 1, 1, 0, 1, 1, 0, 1, 1, 1, 1, 0,\n",
       "       1, 1, 1, 1, 1, 1, 1, 1, 0, 1, 1, 1, 1, 0, 1, 0, 1, 1, 1, 0, 1, 1,\n",
       "       0, 1, 1, 1, 1, 0, 1, 0, 1, 0, 0, 1, 1, 1, 1, 1, 0, 1, 0, 0, 1, 1,\n",
       "       0, 1, 1, 1, 1, 0, 0, 0, 1, 1, 1, 0, 1, 1, 1, 1, 1, 0, 1, 1, 1, 0,\n",
       "       1, 1, 0, 1, 0, 1, 1, 1, 0, 0, 1, 1, 1, 1, 1, 1, 0, 1, 0, 1, 1, 0,\n",
       "       1, 0, 1, 1, 1, 0, 1, 1, 0, 1, 1, 1, 1, 1, 1, 1, 1, 1, 1, 0, 1, 1,\n",
       "       1, 1, 0, 1, 1, 0, 0, 1, 1, 0, 1, 0, 1, 0, 0, 1, 0, 1, 0, 0, 0, 0,\n",
       "       1, 1, 0, 1, 1, 0, 1, 1, 0, 0, 0, 1, 1, 1, 1, 0, 1, 1, 0, 0, 1, 1,\n",
       "       1, 1, 0, 0, 0, 0, 0, 1, 1, 0, 1, 1, 1, 0, 0, 1, 0, 1, 1, 0, 0, 1,\n",
       "       1, 1, 1, 1, 1, 0, 0, 1, 0, 1, 0, 1, 1, 0, 0, 0, 0, 1, 1, 0, 1, 1,\n",
       "       1, 0, 1, 1, 1, 1, 1, 1, 1, 1, 1, 1, 1, 0, 1, 0, 0, 1, 0, 0, 0, 1,\n",
       "       1, 0, 1, 1, 0, 1, 1, 1, 1, 0])"
      ]
     },
     "execution_count": 7,
     "metadata": {},
     "output_type": "execute_result"
    }
   ],
   "source": [
    "mod.fit(X, y).predict(X)"
   ]
  },
  {
   "cell_type": "code",
   "execution_count": 8,
   "metadata": {
    "ExecuteTime": {
     "end_time": "2020-10-13T17:53:22.133019Z",
     "start_time": "2020-10-13T17:53:21.832934Z"
    }
   },
   "outputs": [
    {
     "data": {
      "text/plain": [
       "GridSearchCV(cv=2,\n",
       "             estimator=FunctionClassifier(func=<function fare_based at 0x12c810c20>,\n",
       "                                          threshold=10),\n",
       "             param_grid={'threshold': array([  0.        ,   3.44827586,   6.89655172,  10.34482759,\n",
       "        13.79310345,  17.24137931,  20.68965517,  24.13793103,\n",
       "        27.5862069 ,  31.03448276,  34.48275862,  37.93103448,\n",
       "        41.37931034,  44.82758621,  48.27586207,  51.72413793,\n",
       "        55.17241379,  58.62068966,  62.06896552,  65.51724138,\n",
       "        68.96551724,  72.4137931 ,  75.86206897,  79.31034483,\n",
       "        82.75862069,  86.20689655,  89.65517241,  93.10344828,\n",
       "        96.55172414, 100.        ])},\n",
       "             refit='accuracy',\n",
       "             scoring={'accuracy': make_scorer(accuracy_score),\n",
       "                      'precision': make_scorer(precision_score),\n",
       "                      'recall': make_scorer(recall_score)})"
      ]
     },
     "execution_count": 8,
     "metadata": {},
     "output_type": "execute_result"
    }
   ],
   "source": [
    "from sklearn.model_selection import GridSearchCV\n",
    "from sklearn.metrics import precision_score, recall_score, accuracy_score, make_scorer\n",
    "\n",
    "# Note the threshold keyword argument in this function.\n",
    "def fare_based(dataf, threshold=10):\n",
    "    return np.array(dataf['fare'] > threshold).astype(int)\n",
    "\n",
    "# Pay attention here, we set the threshold argument in here.\n",
    "mod = FunctionClassifier(fare_based, threshold=10)\n",
    "\n",
    "# The GridSearch object can now \"grid-search\" over this argument.\n",
    "# We also add a bunch of metrics to our approach so we can measure.\n",
    "grid = GridSearchCV(mod,\n",
    "                    cv=2,\n",
    "                    param_grid={'threshold': np.linspace(0, 100, 30)},\n",
    "                    scoring={'accuracy': make_scorer(accuracy_score),\n",
    "                             'precision': make_scorer(precision_score),\n",
    "                             'recall': make_scorer(recall_score)},\n",
    "                    refit='accuracy')\n",
    "grid.fit(X, y)"
   ]
  },
  {
   "cell_type": "code",
   "execution_count": 9,
   "metadata": {
    "ExecuteTime": {
     "end_time": "2020-10-13T17:53:41.780135Z",
     "start_time": "2020-10-13T17:53:41.767244Z"
    }
   },
   "outputs": [
    {
     "data": {
      "text/plain": [
       "{'mean_fit_time': array([0.00192654, 0.00158298, 0.00159597, 0.00186443, 0.00160289,\n",
       "        0.00156426, 0.001454  , 0.00150847, 0.00140989, 0.00148821,\n",
       "        0.00161016, 0.001513  , 0.00145507, 0.00147617, 0.00147653,\n",
       "        0.00140548, 0.00150704, 0.00138354, 0.00148439, 0.00141537,\n",
       "        0.00157309, 0.0014652 , 0.00149345, 0.00144553, 0.00143659,\n",
       "        0.00149167, 0.00139797, 0.0015136 , 0.001387  , 0.0014888 ]),\n",
       " 'std_fit_time': array([4.47034836e-05, 5.49554825e-05, 4.29153442e-05, 6.43730164e-06,\n",
       "        6.89029694e-05, 7.86781311e-06, 2.01463699e-05, 6.74724579e-05,\n",
       "        2.49147415e-05, 1.09195709e-04, 2.22086906e-04, 1.35898590e-04,\n",
       "        4.98294830e-05, 7.03334808e-06, 9.03606415e-05, 2.14576721e-05,\n",
       "        4.19616699e-05, 1.66893005e-06, 6.55651093e-05, 3.03983688e-05,\n",
       "        7.10487366e-05, 4.70876694e-05, 1.04427338e-04, 5.43594360e-05,\n",
       "        5.13792038e-05, 8.16583633e-05, 1.10864639e-05, 7.95125961e-05,\n",
       "        1.78813934e-06, 1.15633011e-05]),\n",
       " 'mean_score_time': array([0.00352383, 0.00285006, 0.00262439, 0.00298715, 0.00270534,\n",
       "        0.00294733, 0.00281358, 0.00256944, 0.00270355, 0.00262332,\n",
       "        0.00272799, 0.00261736, 0.00251889, 0.00267088, 0.00248754,\n",
       "        0.00267065, 0.00258291, 0.00261891, 0.00257754, 0.002774  ,\n",
       "        0.00271499, 0.00264657, 0.00263941, 0.00252223, 0.00265288,\n",
       "        0.00250196, 0.00287795, 0.0026058 , 0.00263691, 0.00255227]),\n",
       " 'std_score_time': array([6.08921051e-04, 4.19616699e-05, 5.60283661e-06, 1.50918961e-04,\n",
       "        1.41620636e-04, 2.33650208e-04, 7.84397125e-05, 8.65459442e-05,\n",
       "        2.00629234e-04, 1.04665756e-04, 7.39097595e-05, 9.53674316e-05,\n",
       "        5.26905060e-05, 6.30617142e-05, 1.46627426e-05, 4.35113907e-05,\n",
       "        9.90629196e-05, 9.78708267e-05, 1.06334686e-04, 1.66177750e-04,\n",
       "        1.60932541e-05, 9.95397568e-05, 7.95125961e-05, 5.98430634e-05,\n",
       "        5.38825989e-05, 1.50203705e-05, 1.38998032e-04, 1.03116035e-04,\n",
       "        7.39097595e-05, 6.05583191e-05]),\n",
       " 'param_threshold': masked_array(data=[0.0, 3.4482758620689653, 6.896551724137931,\n",
       "                    10.344827586206897, 13.793103448275861,\n",
       "                    17.241379310344826, 20.689655172413794,\n",
       "                    24.137931034482758, 27.586206896551722,\n",
       "                    31.034482758620687, 34.48275862068965,\n",
       "                    37.93103448275862, 41.37931034482759,\n",
       "                    44.82758620689655, 48.275862068965516,\n",
       "                    51.72413793103448, 55.172413793103445,\n",
       "                    58.62068965517241, 62.068965517241374,\n",
       "                    65.51724137931033, 68.9655172413793, 72.41379310344827,\n",
       "                    75.86206896551724, 79.3103448275862, 82.75862068965517,\n",
       "                    86.20689655172413, 89.6551724137931, 93.10344827586206,\n",
       "                    96.55172413793103, 100.0],\n",
       "              mask=[False, False, False, False, False, False, False, False,\n",
       "                    False, False, False, False, False, False, False, False,\n",
       "                    False, False, False, False, False, False, False, False,\n",
       "                    False, False, False, False, False, False],\n",
       "        fill_value='?',\n",
       "             dtype=object),\n",
       " 'params': [{'threshold': 0.0},\n",
       "  {'threshold': 3.4482758620689653},\n",
       "  {'threshold': 6.896551724137931},\n",
       "  {'threshold': 10.344827586206897},\n",
       "  {'threshold': 13.793103448275861},\n",
       "  {'threshold': 17.241379310344826},\n",
       "  {'threshold': 20.689655172413794},\n",
       "  {'threshold': 24.137931034482758},\n",
       "  {'threshold': 27.586206896551722},\n",
       "  {'threshold': 31.034482758620687},\n",
       "  {'threshold': 34.48275862068965},\n",
       "  {'threshold': 37.93103448275862},\n",
       "  {'threshold': 41.37931034482759},\n",
       "  {'threshold': 44.82758620689655},\n",
       "  {'threshold': 48.275862068965516},\n",
       "  {'threshold': 51.72413793103448},\n",
       "  {'threshold': 55.172413793103445},\n",
       "  {'threshold': 58.62068965517241},\n",
       "  {'threshold': 62.068965517241374},\n",
       "  {'threshold': 65.51724137931033},\n",
       "  {'threshold': 68.9655172413793},\n",
       "  {'threshold': 72.41379310344827},\n",
       "  {'threshold': 75.86206896551724},\n",
       "  {'threshold': 79.3103448275862},\n",
       "  {'threshold': 82.75862068965517},\n",
       "  {'threshold': 86.20689655172413},\n",
       "  {'threshold': 89.6551724137931},\n",
       "  {'threshold': 93.10344827586206},\n",
       "  {'threshold': 96.55172413793103},\n",
       "  {'threshold': 100.0}],\n",
       " 'split0_test_accuracy': array([0.41176471, 0.41176471, 0.42577031, 0.57983193, 0.59663866,\n",
       "        0.60784314, 0.60504202, 0.6162465 , 0.6022409 , 0.61904762,\n",
       "        0.62464986, 0.6302521 , 0.63585434, 0.63305322, 0.6442577 ,\n",
       "        0.6442577 , 0.6442577 , 0.63865546, 0.64705882, 0.6442577 ,\n",
       "        0.6442577 , 0.63865546, 0.6442577 , 0.64145658, 0.64145658,\n",
       "        0.63865546, 0.63585434, 0.6302521 , 0.6302521 , 0.6302521 ]),\n",
       " 'split1_test_accuracy': array([0.41456583, 0.41456583, 0.42577031, 0.63305322, 0.65826331,\n",
       "        0.68067227, 0.67226891, 0.66666667, 0.66946779, 0.67507003,\n",
       "        0.70028011, 0.69467787, 0.70028011, 0.70028011, 0.70868347,\n",
       "        0.70588235, 0.69747899, 0.67787115, 0.67507003, 0.66946779,\n",
       "        0.66946779, 0.66666667, 0.67226891, 0.65826331, 0.64985994,\n",
       "        0.6442577 , 0.63585434, 0.6302521 , 0.62464986, 0.62464986]),\n",
       " 'mean_test_accuracy': array([0.41316527, 0.41316527, 0.42577031, 0.60644258, 0.62745098,\n",
       "        0.6442577 , 0.63865546, 0.64145658, 0.63585434, 0.64705882,\n",
       "        0.66246499, 0.66246499, 0.66806723, 0.66666667, 0.67647059,\n",
       "        0.67507003, 0.67086835, 0.65826331, 0.66106443, 0.65686275,\n",
       "        0.65686275, 0.65266106, 0.65826331, 0.64985994, 0.64565826,\n",
       "        0.64145658, 0.63585434, 0.6302521 , 0.62745098, 0.62745098]),\n",
       " 'std_test_accuracy': array([0.00140056, 0.00140056, 0.        , 0.02661064, 0.03081232,\n",
       "        0.03641457, 0.03361345, 0.02521008, 0.03361345, 0.0280112 ,\n",
       "        0.03781513, 0.03221289, 0.03221289, 0.03361345, 0.03221289,\n",
       "        0.03081232, 0.02661064, 0.01960784, 0.0140056 , 0.01260504,\n",
       "        0.01260504, 0.0140056 , 0.0140056 , 0.00840336, 0.00420168,\n",
       "        0.00280112, 0.        , 0.        , 0.00280112, 0.00280112]),\n",
       " 'rank_test_accuracy': array([29, 29, 28, 27, 24, 17, 20, 18, 21, 15,  6,  6,  4,  5,  1,  2,  3,\n",
       "        10,  8, 11, 11, 13,  9, 14, 16, 18, 21, 23, 24, 24], dtype=int32),\n",
       " 'split0_test_precision': array([0.40793201, 0.40793201, 0.4137931 , 0.48962656, 0.5026178 ,\n",
       "        0.51497006, 0.51333333, 0.52857143, 0.51327434, 0.5483871 ,\n",
       "        0.56626506, 0.58227848, 0.6       , 0.59459459, 0.62857143,\n",
       "        0.62857143, 0.64516129, 0.64285714, 0.67924528, 0.67307692,\n",
       "        0.68      , 0.66666667, 0.70454545, 0.72972973, 0.75757576,\n",
       "        0.76666667, 0.75862069, 0.76      , 0.76      , 0.76      ]),\n",
       " 'split1_test_precision': array([0.40960452, 0.40960452, 0.41428571, 0.52966102, 0.56020942,\n",
       "        0.58959538, 0.58536585, 0.58333333, 0.61344538, 0.64356436,\n",
       "        0.71111111, 0.70930233, 0.75      , 0.75675676, 0.78873239,\n",
       "        0.8030303 , 0.81355932, 0.78846154, 0.78431373, 0.7755102 ,\n",
       "        0.7755102 , 0.7826087 , 0.81818182, 0.82857143, 0.8125    ,\n",
       "        0.8       , 0.77777778, 0.76      , 0.73913043, 0.73913043]),\n",
       " 'mean_test_precision': array([0.40876827, 0.40876827, 0.41403941, 0.50964379, 0.53141361,\n",
       "        0.55228272, 0.54934959, 0.55595238, 0.56335986, 0.59597573,\n",
       "        0.63868809, 0.6457904 , 0.675     , 0.67567568, 0.70865191,\n",
       "        0.71580087, 0.72936031, 0.71565934, 0.7317795 , 0.72429356,\n",
       "        0.7277551 , 0.72463768, 0.76136364, 0.77915058, 0.78503788,\n",
       "        0.78333333, 0.76819923, 0.76      , 0.74956522, 0.74956522]),\n",
       " 'std_test_precision': array([0.00083625, 0.00083625, 0.00024631, 0.02001723, 0.02879581,\n",
       "        0.03731266, 0.03601626, 0.02738095, 0.05008552, 0.04758863,\n",
       "        0.07242303, 0.06351192, 0.075     , 0.08108108, 0.08008048,\n",
       "        0.08722944, 0.08419902, 0.0728022 , 0.05253422, 0.05121664,\n",
       "        0.0477551 , 0.05797101, 0.05681818, 0.04942085, 0.02746212,\n",
       "        0.01666667, 0.00957854, 0.        , 0.01043478, 0.01043478]),\n",
       " 'rank_test_precision': array([29, 29, 28, 27, 26, 24, 25, 23, 22, 21, 20, 19, 18, 17, 16, 14, 10,\n",
       "        15,  9, 13, 11, 12,  5,  3,  1,  2,  4,  6,  7,  7], dtype=int32),\n",
       " 'split0_test_recall': array([0.99310345, 0.99310345, 0.99310345, 0.8137931 , 0.66206897,\n",
       "        0.59310345, 0.53103448, 0.51034483, 0.4       , 0.35172414,\n",
       "        0.32413793, 0.31724138, 0.31034483, 0.30344828, 0.30344828,\n",
       "        0.30344828, 0.27586207, 0.24827586, 0.24827586, 0.24137931,\n",
       "        0.23448276, 0.22068966, 0.2137931 , 0.1862069 , 0.17241379,\n",
       "        0.15862069, 0.15172414, 0.13103448, 0.13103448, 0.13103448]),\n",
       " 'split1_test_recall': array([1.        , 1.        , 1.        , 0.86206897, 0.73793103,\n",
       "        0.70344828, 0.66206897, 0.62758621, 0.50344828, 0.44827586,\n",
       "        0.44137931, 0.42068966, 0.39310345, 0.3862069 , 0.3862069 ,\n",
       "        0.36551724, 0.33103448, 0.28275862, 0.27586207, 0.26206897,\n",
       "        0.26206897, 0.24827586, 0.24827586, 0.2       , 0.17931034,\n",
       "        0.16551724, 0.14482759, 0.13103448, 0.11724138, 0.11724138]),\n",
       " 'mean_test_recall': array([0.99655172, 0.99655172, 0.99655172, 0.83793103, 0.7       ,\n",
       "        0.64827586, 0.59655172, 0.56896552, 0.45172414, 0.4       ,\n",
       "        0.38275862, 0.36896552, 0.35172414, 0.34482759, 0.34482759,\n",
       "        0.33448276, 0.30344828, 0.26551724, 0.26206897, 0.25172414,\n",
       "        0.24827586, 0.23448276, 0.23103448, 0.19310345, 0.17586207,\n",
       "        0.16206897, 0.14827586, 0.13103448, 0.12413793, 0.12413793]),\n",
       " 'std_test_recall': array([0.00344828, 0.00344828, 0.00344828, 0.02413793, 0.03793103,\n",
       "        0.05517241, 0.06551724, 0.05862069, 0.05172414, 0.04827586,\n",
       "        0.05862069, 0.05172414, 0.04137931, 0.04137931, 0.04137931,\n",
       "        0.03103448, 0.02758621, 0.01724138, 0.0137931 , 0.01034483,\n",
       "        0.0137931 , 0.0137931 , 0.01724138, 0.00689655, 0.00344828,\n",
       "        0.00344828, 0.00344828, 0.        , 0.00689655, 0.00689655]),\n",
       " 'rank_test_recall': array([ 1,  1,  1,  4,  5,  6,  7,  8,  9, 10, 11, 12, 13, 14, 14, 16, 17,\n",
       "        18, 19, 20, 21, 22, 23, 24, 25, 26, 27, 28, 29, 29], dtype=int32)}"
      ]
     },
     "execution_count": 9,
     "metadata": {},
     "output_type": "execute_result"
    }
   ],
   "source": [
    "grid.cv_results_"
   ]
  },
  {
   "cell_type": "code",
   "execution_count": 12,
   "metadata": {
    "ExecuteTime": {
     "end_time": "2020-10-13T17:55:43.490101Z",
     "start_time": "2020-10-13T17:55:43.479981Z"
    }
   },
   "outputs": [
    {
     "ename": "NameError",
     "evalue": "name 'mean_test_accuracy' is not defined",
     "output_type": "error",
     "traceback": [
      "\u001b[0;31m---------------------------------------------------------------------------\u001b[0m",
      "\u001b[0;31mNameError\u001b[0m                                 Traceback (most recent call last)",
      "\u001b[0;32m<ipython-input-12-9ba303621328>\u001b[0m in \u001b[0;36m<module>\u001b[0;34m\u001b[0m\n\u001b[1;32m      1\u001b[0m \u001b[0;32mimport\u001b[0m \u001b[0mmatplotlib\u001b[0m\u001b[0;34m.\u001b[0m\u001b[0mpyplot\u001b[0m \u001b[0;32mas\u001b[0m \u001b[0mplt\u001b[0m\u001b[0;34m\u001b[0m\u001b[0;34m\u001b[0m\u001b[0m\n\u001b[0;32m----> 2\u001b[0;31m \u001b[0mplt\u001b[0m\u001b[0;34m.\u001b[0m\u001b[0mplot\u001b[0m\u001b[0;34m(\u001b[0m\u001b[0mgrid\u001b[0m\u001b[0;34m.\u001b[0m\u001b[0mcv_results_\u001b[0m\u001b[0;34m[\u001b[0m\u001b[0mmean_test_accuracy\u001b[0m\u001b[0;34m]\u001b[0m\u001b[0;34m)\u001b[0m\u001b[0;34m\u001b[0m\u001b[0;34m\u001b[0m\u001b[0m\n\u001b[0m",
      "\u001b[0;31mNameError\u001b[0m: name 'mean_test_accuracy' is not defined"
     ]
    }
   ],
   "source": [
    "import matplotlib.pyplot as plt\n",
    "plt.plot(grid.cv_results_[mean_test_accuracy])"
   ]
  },
  {
   "cell_type": "code",
   "execution_count": 14,
   "metadata": {
    "ExecuteTime": {
     "end_time": "2020-10-13T17:58:12.043138Z",
     "start_time": "2020-10-13T17:58:12.038920Z"
    }
   },
   "outputs": [
    {
     "data": {
      "text/plain": [
       "dict_keys(['mean_fit_time', 'std_fit_time', 'mean_score_time', 'std_score_time', 'param_threshold', 'params', 'split0_test_accuracy', 'split1_test_accuracy', 'mean_test_accuracy', 'std_test_accuracy', 'rank_test_accuracy', 'split0_test_precision', 'split1_test_precision', 'mean_test_precision', 'std_test_precision', 'rank_test_precision', 'split0_test_recall', 'split1_test_recall', 'mean_test_recall', 'std_test_recall', 'rank_test_recall'])"
      ]
     },
     "execution_count": 14,
     "metadata": {},
     "output_type": "execute_result"
    }
   ],
   "source": [
    "grid.cv_results_.keys()"
   ]
  },
  {
   "cell_type": "code",
   "execution_count": 22,
   "metadata": {
    "ExecuteTime": {
     "end_time": "2020-10-13T18:01:18.304129Z",
     "start_time": "2020-10-13T18:01:18.141080Z"
    }
   },
   "outputs": [
    {
     "data": {
      "image/png": "[encoded data removed]",
      "text/plain": [
       "<Figure size 1008x432 with 1 Axes>"
      ]
     },
     "metadata": {
      "needs_background": "light"
     },
     "output_type": "display_data"
    }
   ],
   "source": [
    "plt.figure(figsize=(14, 6))\n",
    "plt.plot(grid.cv_results_['mean_test_accuracy'])\n",
    "plt.plot(grid.cv_results_['mean_test_precision'])\n",
    "plt.plot(grid.cv_results_['mean_test_recall'])\n",
    "plt.show()"
   ]
  },
  {
   "cell_type": "code",
   "execution_count": 23,
   "metadata": {
    "ExecuteTime": {
     "end_time": "2020-10-13T18:02:38.586655Z",
     "start_time": "2020-10-13T18:02:38.497258Z"
    }
   },
   "outputs": [
    {
     "data": {
      "text/plain": [
       "GridSearchCV(cv=2,\n",
       "             estimator=FunctionClassifier(func=<function last_name at 0x12e36ba70>,\n",
       "                                          pclass=10, sex='male'),\n",
       "             param_grid={'pclass': [1, 2, 3], 'sex': ['male', 'female']},\n",
       "             refit='accuracy',\n",
       "             scoring={'accuracy': make_scorer(accuracy_score),\n",
       "                      'precision': make_scorer(precision_score),\n",
       "                      'recall': make_scorer(recall_score)})"
      ]
     },
     "execution_count": 23,
     "metadata": {},
     "output_type": "execute_result"
    }
   ],
   "source": [
    "def last_name(dataf, sex='male', pclass=1):\n",
    "    predicate = (dataf['sex'] == sex) & (dataf['pclass'] == pclass)\n",
    "    return np.array(predicate).astype(int)\n",
    "\n",
    "# Once again, remember to declare your arguments here too!\n",
    "mod = FunctionClassifier(last_name, pclass=10, sex='male')\n",
    "\n",
    "# The arguments of the function can now be \"grid-searched\".\n",
    "grid = GridSearchCV(mod,\n",
    "                    cv=2,\n",
    "                    param_grid={'pclass': [1, 2, 3], 'sex': ['male', 'female']},\n",
    "                    scoring={'accuracy': make_scorer(accuracy_score),\n",
    "                             'precision': make_scorer(precision_score),\n",
    "                             'recall': make_scorer(recall_score)},\n",
    "                    refit='accuracy')\n",
    "grid.fit(X, y)"
   ]
  },
  {
   "cell_type": "code",
   "execution_count": null,
   "metadata": {},
   "outputs": [],
   "source": []
  }
 ],
 "metadata": {
  "kernelspec": {
   "display_name": "Python 3",
   "language": "python",
   "name": "python3"
  },
  "language_info": {
   "codemirror_mode": {
    "name": "ipython",
    "version": 3
   },
   "file_extension": ".py",
   "mimetype": "text/x-python",
   "name": "python",
   "nbconvert_exporter": "python",
   "pygments_lexer": "ipython3",
   "version": "3.7.4"
  },
  "toc": {
   "base_numbering": 1,
   "nav_menu": {},
   "number_sections": true,
   "sideBar": true,
   "skip_h1_title": false,
   "title_cell": "Table of Contents",
   "title_sidebar": "Contents",
   "toc_cell": false,
   "toc_position": {},
   "toc_section_display": true,
   "toc_window_display": false
  },
  "varInspector": {
   "cols": {
    "lenName": 16,
    "lenType": 16,
    "lenVar": 40
   },
   "kernels_config": {
    "python": {
     "delete_cmd_postfix": "",
     "delete_cmd_prefix": "del ",
     "library": "var_list.py",
     "varRefreshCmd": "print(var_dic_list())"
    },
    "r": {
     "delete_cmd_postfix": ") ",
     "delete_cmd_prefix": "rm(",
     "library": "var_list.r",
     "varRefreshCmd": "cat(var_dic_list()) "
    }
   },
   "types_to_exclude": [
    "module",
    "function",
    "builtin_function_or_method",
    "instance",
    "_Feature"
   ],
   "window_display": false
  }
 },
 "nbformat": 4,
 "nbformat_minor": 2
}
